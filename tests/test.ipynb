{
 "cells": [
  {
   "cell_type": "code",
   "execution_count": 2,
   "metadata": {},
   "outputs": [],
   "source": [
    "from mas.tool.tools.googlesearch import google_search\n",
    "\n",
    "res = google_search(\"reinforcement learning for finance research\")"
   ]
  },
  {
   "cell_type": "code",
   "execution_count": 4,
   "metadata": {},
   "outputs": [
    {
     "name": "stdout",
     "output_type": "stream",
     "text": [
      "[\n",
      "  {\n",
      "    \"title\": \"\",\n",
      "    \"url\": \"https://scholar.google.com/scholar?q=reinforcement+learning+for+finance+research&hl=en&as_sdt=0&as_vis=1&oi=scholart\",\n",
      "    \"description\": \"\"\n",
      "  },\n",
      "  {\n",
      "    \"title\": \"Reinforcement Learning for Finance[Book] - O'Reilly\",\n",
      "    \"url\": \"https://www.oreilly.com/library/view/reinforcement-learning-for/9781098169169/\",\n",
      "    \"description\": \" This book is among the first to explore the use of reinforcement learning methods in finance. Author Yves Hilpisch, founder and CEO of The Python Quants, \"\n",
      "  },\n",
      "  {\n",
      "    \"title\": \"[PDF] Foundations of Reinforcement Learning with Applications in Finance\",\n",
      "    \"url\": \"https://stanford.edu/~ashlearn/RLForFinanceBook/book.pdf\",\n",
      "    \"description\": \" In his role as an Adjunct Professor at Stanford Uni- versity, Ashwin specializes in Reinforcement Learning and Mathematical Finance. ... Research and. Artificial\\u00a0... \"\n",
      "  },\n",
      "  {\n",
      "    \"title\": \"7 Applications of Reinforcement Learning in Finance and Trading\",\n",
      "    \"url\": \"https://neptune.ai/blog/7-applications-of-reinforcement-learning-in-finance-and-trading\",\n",
      "    \"description\": \" Sep 13, 2024  \\u00b7  In this article, we will explore 7 real world trading and finance applications where reinforcement learning is used to get a performance boost. \"\n",
      "  },\n",
      "  {\n",
      "    \"title\": \"A Review of Reinforcement Learning in Financial Applications - arXiv\",\n",
      "    \"url\": \"https://arxiv.org/html/2411.12746v1\",\n",
      "    \"description\": \" Nov 1, 2024  \\u00b7  In this survey, we present a comprehensive study of the applications of RL in finance and conduct a series of meta-analyses to investigate the common themes in\\u00a0... \"\n",
      "  }\n",
      "]\n"
     ]
    }
   ],
   "source": [
    "print(res)"
   ]
  },
  {
   "cell_type": "code",
   "execution_count": null,
   "metadata": {},
   "outputs": [
    {
     "ename": "AttributeError",
     "evalue": "'list' object has no attribute 'items'",
     "output_type": "error",
     "traceback": [
      "\u001b[31m---------------------------------------------------------------------------\u001b[39m",
      "\u001b[31mAttributeError\u001b[39m                            Traceback (most recent call last)",
      "\u001b[36mCell\u001b[39m\u001b[36m \u001b[39m\u001b[32mIn[6]\u001b[39m\u001b[32m, line 4\u001b[39m\n\u001b[32m      2\u001b[39m reader = Reader()\n\u001b[32m      3\u001b[39m doc = reader.read(\u001b[33m\"\u001b[39m\u001b[33mhttps://en.wikipedia.org/wiki/Mercedes_Sosa\u001b[39m\u001b[33m\"\u001b[39m)\n\u001b[32m----> \u001b[39m\u001b[32m4\u001b[39m \u001b[38;5;28;01mfor\u001b[39;00m k,v \u001b[38;5;129;01min\u001b[39;00m \u001b[43mdoc\u001b[49m\u001b[43m.\u001b[49m\u001b[43mitems\u001b[49m():\n\u001b[32m      5\u001b[39m     \u001b[38;5;28mprint\u001b[39m(k,\u001b[33m'\u001b[39m\u001b[33m: \u001b[39m\u001b[33m'\u001b[39m, v)\n",
      "\u001b[31mAttributeError\u001b[39m: 'list' object has no attribute 'items'"
     ]
    }
   ],
   "source": [
    "from mas.tool.tools.url_reader import Reader\n",
    "reader = Reader()\n",
    "doc = reader.read(\"https://en.wikipedia.org/wiki/Mercedes_Sosa\")\n",
    "for k,v in doc[0].items():\n",
    "    print(k,': ', v)"
   ]
  }
 ],
 "metadata": {
  "kernelspec": {
   "display_name": ".venv",
   "language": "python",
   "name": "python3"
  },
  "language_info": {
   "codemirror_mode": {
    "name": "ipython",
    "version": 3
   },
   "file_extension": ".py",
   "mimetype": "text/x-python",
   "name": "python",
   "nbconvert_exporter": "python",
   "pygments_lexer": "ipython3",
   "version": "3.11.11"
  }
 },
 "nbformat": 4,
 "nbformat_minor": 2
}
