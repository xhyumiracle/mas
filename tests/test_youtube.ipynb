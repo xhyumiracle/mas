{
 "cells": [
  {
   "cell_type": "code",
   "execution_count": null,
   "metadata": {},
   "outputs": [],
   "source": [
    "from pytubefix import YouTube\n",
    "def download_video(url):\n",
    "    try:\n",
    "        yt = YouTube(url)\n",
    "        audio = yt.streams.get_audio_only()\n",
    "        audio.download(output_path=\"/Users/xin/Downloads\")\n",
    "        '''\n",
    "        # Get highest resolution stream\n",
    "        video = yt.streams.get_highest_resolution()\n",
    "\n",
    "        # Download to current directory\n",
    "        video.download()\n",
    "\n",
    "        # Download specific resolution\n",
    "        video = yt.streams.filter(res=\"720p\").first()\n",
    "\n",
    "        # Download only audio\n",
    "        audio = yt.streams.get_audio_only()\n",
    "\n",
    "        # Specify download location\n",
    "        video.download(output_path=\"/path/to/folder\")\n",
    "        '''\n",
    "        print(f\"Downloaded: {yt.title}\")\n",
    "    except Exception as e:\n",
    "        print(f\"An error occurred: {e}\")"
   ]
  },
  {
   "cell_type": "code",
   "execution_count": 4,
   "metadata": {},
   "outputs": [
    {
     "name": "stdout",
     "output_type": "stream",
     "text": [
      "Downloaded audio: 廣播劇【殺破狼】主題曲《月若流金》- 阿傑「古風」「燃」（cc動態歌詞）\n"
     ]
    }
   ],
   "source": [
    "from pytubefix import YouTube\n",
    "def download_audio(url, output_path=None):\n",
    "    try:\n",
    "        yt = YouTube(url)\n",
    "        audio = yt.streams.get_audio_only()\n",
    "        audio.download(output_path)\n",
    "        print(f\"Downloaded audio: {yt.title}\")\n",
    "    except Exception as e:\n",
    "        print(f\"An error occurred: {e}\")\n",
    "\n",
    "download_audio(\"https://www.youtube.com/watch?v=DMdbbPU9a_k\")"
   ]
  },
  {
   "cell_type": "code",
   "execution_count": 3,
   "metadata": {},
   "outputs": [
    {
     "name": "stdout",
     "output_type": "stream",
     "text": [
      "廣播劇【殺破狼】主題曲《月若流金》- 阿傑「古風」「燃」（cc動態歌詞）\n",
      " ↳ |████████████████████████████████████████████| 100.0%\r"
     ]
    },
    {
     "data": {
      "text/plain": [
       "'/Users/xin/Programming/mas/tests/廣播劇【殺破狼】主題曲《月若流金》- 阿傑「古風」「燃」（cc動態歌詞）.mp4'"
      ]
     },
     "execution_count": 3,
     "metadata": {},
     "output_type": "execute_result"
    }
   ],
   "source": [
    "from pytubefix import YouTube\n",
    "from pytubefix.cli import on_progress\n",
    " \n",
    "url = \"https://www.youtube.com/watch?v=DMdbbPU9a_k\"\n",
    " \n",
    "yt = YouTube(url, on_progress_callback = on_progress)\n",
    "print(yt.title)\n",
    " \n",
    "ys = yt.streams.get_highest_resolution()\n",
    "ys.download()"
   ]
  }
 ],
 "metadata": {
  "kernelspec": {
   "display_name": ".venv",
   "language": "python",
   "name": "python3"
  },
  "language_info": {
   "codemirror_mode": {
    "name": "ipython",
    "version": 3
   },
   "file_extension": ".py",
   "mimetype": "text/x-python",
   "name": "python",
   "nbconvert_exporter": "python",
   "pygments_lexer": "ipython3",
   "version": "3.11.11"
  }
 },
 "nbformat": 4,
 "nbformat_minor": 2
}
